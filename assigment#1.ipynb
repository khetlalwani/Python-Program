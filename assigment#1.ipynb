{
 "cells": [
  {
   "cell_type": "code",
   "execution_count": 3,
   "metadata": {},
   "outputs": [
    {
     "name": "stdout",
     "output_type": "stream",
     "text": [
      "Twinkle, twinkle, little star,How I wonder what you are!Up above the world so high,Like a diamond in the sky.Twinkle, twinkle, little star,How I wonder what you are\n"
     ]
    }
   ],
   "source": [
    "\"\"\"1. Twinkle, twinkle, little star,\n",
    "How I wonder what you are!\n",
    "Up above the world so high,\n",
    "Like a diamond in the sky.\n",
    "\n",
    "Twinkle, twinkle, little star,\n",
    "How I wonder what you are\"\"\" \n",
    "\n",
    "print(\"Twinkle, twinkle, little star,How I wonder what you are!Up above the world so high,Like a diamond in the sky.Twinkle, twinkle, little star,How I wonder what you are\")"
   ]
  },
  {
   "cell_type": "code",
   "execution_count": 4,
   "metadata": {},
   "outputs": [
    {
     "name": "stdout",
     "output_type": "stream",
     "text": [
      "iam using python version 3.3\n"
     ]
    }
   ],
   "source": [
    "\"\"\" 2. Write a Python program to get the Python version you are using\"\"\"\n",
    "print(\"iam using python version 3.3\")"
   ]
  },
  {
   "cell_type": "code",
   "execution_count": 6,
   "metadata": {},
   "outputs": [
    {
     "name": "stdout",
     "output_type": "stream",
     "text": [
      "11-5-2019 , 12.00PM\n"
     ]
    }
   ],
   "source": [
    "\"\"\" 3. Write a Python program to display the current date and time.\"\"\"\n",
    "\n",
    "a = \"11-5-2019\"\n",
    "b = \"12.00PM\"\n",
    "c = a + \" , \" + b\n",
    "print(c) "
   ]
  },
  {
   "cell_type": "code",
   "execution_count": 7,
   "metadata": {},
   "outputs": [
    {
     "name": "stdout",
     "output_type": "stream",
     "text": [
      "Kumar Khet\n"
     ]
    }
   ],
   "source": [
    "\"\"\"5. Write a Python program which accepts the user's first and last name and\n",
    "print them in reverse order with a space between them.\"\"\"\n",
    "\n",
    "FirstName = \"Khet\"\n",
    "LastName = \"Kumar\"\n",
    "c = LastName + \" \" + FirstName\n",
    "print(c)\n"
   ]
  },
  {
   "cell_type": "code",
   "execution_count": 9,
   "metadata": {},
   "outputs": [
    {
     "name": "stdout",
     "output_type": "stream",
     "text": [
      "25\n"
     ]
    }
   ],
   "source": [
    "\"\"\" 4. Write a Python program which accepts the radius of a circle from the user\n",
    "and compute the area.\"\"\"\n",
    "\n",
    "\"\"\" didnt got the question and also not cover in lecture kindly cover thsu in next video please for understanding \n",
    "thanks \"\"\"\n",
    "\n",
    "\n",
    "\n",
    "\"\"\" 6. Write a python program which takes two inputs from user and print them\n",
    "addition\"\"\"\n",
    "\n",
    "a = 10\n",
    "a += 15\n",
    "print (a)\n"
   ]
  },
  {
   "cell_type": "code",
   "execution_count": null,
   "metadata": {},
   "outputs": [],
   "source": []
  },
  {
   "cell_type": "code",
   "execution_count": null,
   "metadata": {},
   "outputs": [],
   "source": []
  }
 ],
 "metadata": {
  "kernelspec": {
   "display_name": "Python 3",
   "language": "python",
   "name": "python3"
  },
  "language_info": {
   "codemirror_mode": {
    "name": "ipython",
    "version": 3
   },
   "file_extension": ".py",
   "mimetype": "text/x-python",
   "name": "python",
   "nbconvert_exporter": "python",
   "pygments_lexer": "ipython3",
   "version": "3.7.3"
  }
 },
 "nbformat": 4,
 "nbformat_minor": 2
}
